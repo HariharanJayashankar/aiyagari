{
 "cells": [
  {
   "cell_type": "code",
   "execution_count": 1,
   "metadata": {},
   "outputs": [],
   "source": [
    "'''\n",
    "This file solves Aiyagiri with endogenous labour and taxes\n",
    "ala Floden and Linde (2001)\n",
    "'''\n",
    "\n",
    "import numpy as np\n",
    "import matplotlib.pyplot as plt\n",
    "from quantecon.markov import DiscreteDP\n",
    "from numba import jit"
   ]
  },
  {
   "cell_type": "code",
   "execution_count": 15,
   "metadata": {},
   "outputs": [],
   "source": [
    "class agent():\n",
    "\n",
    "\n",
    "    def __init__(self,\n",
    "                 r = 0.02,\n",
    "                 w = 1.0,\n",
    "                 cbeta = 0.96,\n",
    "                 a_min = 1e-10,\n",
    "                 a_max = 18,\n",
    "                 a_size = 100,\n",
    "                 P = [[0.9, 0.1],\n",
    "                     [0.1, 0.9]],\n",
    "                 z_vals = [0.1, 1.0]\n",
    "                 ):\n",
    "\n",
    "        self.r, self.w, self.cbeta, self.a_min, self.a_max, self.a_size = r, w, cbeta, a_min, a_max, a_size\n",
    "        self.P = np.asarray(P)\n",
    "        self.z_vals = np.asarray(z_vals)\n",
    "        self.z_size = len(z_vals)\n",
    "\n",
    "        self.a_vals = np.linspace(a_min, a_max, a_size)\n",
    "        self.l_vals = np.linspace(1e-10, 1.0, a_size)\n",
    "        self.n = self.z_size * self.a_size\n",
    "        self.m = self.a_size * self.a_size\n",
    "\n",
    "        # -- setting R and Q -- #\n",
    "\n",
    "        # R\n",
    "        self.R = np.empty((self.n, self.m))\n",
    "        self.R.fill(-np.inf) # invalid values of utility have to be impossible to choose\n",
    "        self.set_R()\n",
    "\n",
    "        # Q\n",
    "        self.Q = np.empty((self.n, self.m, self.n))\n",
    "        self.set_Q()\n",
    "\n",
    "    def set_R(self):\n",
    "        build_R(self.R, self.z_vals, self.z_size, self.a_size, self.a_vals, self.l_vals, self.r, self.w)\n",
    "\n",
    "    def set_Q(self):\n",
    "        build_Q(self.Q, self.z_vals, self.z_size, self.a_vals, self.a_size, self.P)\n",
    "\n",
    "    def set_prices(self, r, w):\n",
    "        \"\"\"\n",
    "        Use this method to reset prices.  Calling the method will trigger a\n",
    "        re-build of R.\n",
    "        \"\"\"\n",
    "        self.r, self.w = r, w\n",
    "        self.set_R()"
   ]
  },
  {
   "cell_type": "code",
   "execution_count": 16,
   "metadata": {},
   "outputs": [],
   "source": [
    "\n",
    "@jit\n",
    "def build_R(R, z_vals, z_size, a_size, a_vals, l_vals, r, w):\n",
    "    n = z_size * a_size\n",
    "    for i in range(n):\n",
    "        for j in range(a_size):\n",
    "            for k in range(a_size):\n",
    "                a_i = i // z_size\n",
    "                z_i = i % z_size\n",
    "\n",
    "                z = z_vals[z_i]\n",
    "                a = a_vals[a_i]\n",
    "\n",
    "                a_1 = a_vals[j]\n",
    "                l = l_vals[k]\n",
    "\n",
    "                c = w * l * z + (1 + r) * a - a_1\n",
    "\n",
    "                if c > 0:\n",
    "                    R[i, j*a_size + k] = np.log(c) - cpsi * (l ** (1.0 + ceta))/(1.0 + ceta)\n",
    "@jit\n",
    "def build_Q(Q, z_vals, z_size, a_val, a_size, P):\n",
    "    n = a_size * z_size\n",
    "    for i in range(n):\n",
    "        z_i = i % z_size\n",
    "        for z_i_1 in range(z_size):\n",
    "            for a_i  in range(a_size):\n",
    "                for l_i in range(a_size):\n",
    "                    Q[i, a_i*a_size + l_i, a_i * z_size + z_i_1] = P[z_i, z_i_1]\n",
    "\n",
    "\n",
    "@jit\n",
    "def asset_pdf(s_pdf, a_size, z_size):\n",
    "\n",
    "    a_pdf = np.zeros(a_size)\n",
    "\n",
    "    for z_i in range(z_size):\n",
    "        for a_i in range(a_size):\n",
    "            a_pdf[a_i] += s_pdf[a_i * z_size + z_i]\n",
    "\n",
    "    return a_pdf\n",
    "\n",
    "@jit\n",
    "def labour_pdf(s_pdf, a_size, z_size, z_vals):\n",
    "\n",
    "    l_pdf = np.zeros(a_size)\n",
    "\n",
    "    for z_i in range(z_size):\n",
    "        for l_i in range(a_size):\n",
    "            l_pdf[l_i] += z_vals[z_i] * s_pdf[l_i * z_size + z_i]\n",
    "\n",
    "    return l_pdf\n",
    "\n",
    "def r_to_w(r):\n",
    "    \"\"\"\n",
    "    Equilibrium wages associated with a given interest rate r.\n",
    "    \"\"\"\n",
    "    return A * (1 - calpha) * (A * calpha / (r + cdelta))**(calpha / (1 - calpha))\n",
    "\n",
    "def rd(K, N):\n",
    "    \"\"\"\n",
    "    Inverse demand curve for capital.  The interest rate associated with a\n",
    "    given demand for capital K.\n",
    "    \"\"\"\n",
    "    return A * calpha * (N / K)**(1 - calpha) - cdelta\n",
    "\n",
    "def cap_lab_stock(am, r):\n",
    "    \"\"\"\n",
    "    Map prices to the induced level of capital stock.\n",
    "\n",
    "    Parameters:\n",
    "    ----------\n",
    "\n",
    "    am : Household\n",
    "        An instance of an aiyagari_household.Household\n",
    "    r : float\n",
    "        The interest rate\n",
    "    \"\"\"\n",
    "    w = r_to_w(r)\n",
    "    am.set_prices(r, w)\n",
    "    aiyagari_ddp = DiscreteDP(am.R, am.Q, am.cbeta)\n",
    "    # Compute the optimal policy\n",
    "    results = aiyagari_ddp.solve(method='policy_iteration')\n",
    "    # Compute the stationary distribution\n",
    "    stationary_probs = results.mc.stationary_distributions[0]\n",
    "    # Extract the marginal distribution for assets\n",
    "    asset_probs = asset_pdf(stationary_probs, am.a_size, am.z_size)\n",
    "    # marginal distri for labour\n",
    "    lab_probs = labour_pdf(stationary_probs, am.a_size, am.z_size, am.z_vals)\n",
    "    # Return K\n",
    "    return (np.sum(asset_probs * am.a_vals), np.sum(lab_probs * am.l_vals), w)\n"
   ]
  },
  {
   "cell_type": "code",
   "execution_count": 17,
   "metadata": {},
   "outputs": [],
   "source": [
    "# Example prices\n",
    "r = 0.03\n",
    "w = 1\n",
    "cpsi = 1\n",
    "ceta = 2\n",
    "A = 1\n",
    "calpha = 0.33\n",
    "cbeta = 0.96\n",
    "cdelta = 0.05\n",
    "\n",
    "# Create an instance of Household\n",
    "am = agent(a_max=20, r=r, w=w)\n",
    "\n",
    "\n",
    "# Use the instance to build a discrete dynamic program\n",
    "am_ddp = DiscreteDP(am.R, am.Q, am.cbeta)\n",
    "\n",
    "# Solve using policy function iteration\n",
    "results = am_ddp.solve(method='policy_iteration')\n",
    "\n",
    "# Simplify names\n",
    "z_size, a_size = am.z_size, am.a_size\n",
    "z_vals, a_vals = am.z_vals, am.a_vals\n",
    "l_vals = am.l_vals\n",
    "\n",
    "a_pdf = asset_pdf(results.mc.stationary_distributions[0], a_size, z_size)"
   ]
  },
  {
   "cell_type": "code",
   "execution_count": 18,
   "metadata": {},
   "outputs": [
    {
     "data": {
      "text/plain": [
       "[<matplotlib.lines.Line2D at 0x1bed20c7198>]"
      ]
     },
     "execution_count": 18,
     "metadata": {},
     "output_type": "execute_result"
    },
    {
     "data": {
      "image/png": "[encoded data removed]",
      "text/plain": [
       "<Figure size 432x288 with 1 Axes>"
      ]
     },
     "metadata": {
      "needs_background": "light"
     },
     "output_type": "display_data"
    }
   ],
   "source": [
    "plt.plot(a_vals, a_pdf)"
   ]
  },
  {
   "cell_type": "code",
   "execution_count": 24,
   "metadata": {},
   "outputs": [
    {
     "data": {
      "text/plain": [
       "[<matplotlib.lines.Line2D at 0x1bed15b1390>]"
      ]
     },
     "execution_count": 24,
     "metadata": {},
     "output_type": "execute_result"
    },
    {
     "data": {
      "image/png": "[encoded data removed]",
      "text/plain": [
       "<Figure size 432x288 with 1 Axes>"
      ]
     },
     "metadata": {
      "needs_background": "light"
     },
     "output_type": "display_data"
    }
   ],
   "source": [
    "l_vals = am.l_vals\n",
    "l_pdf = labour_pdf(results.mc.stationary_distributions[0], a_size, z_size, z_vals)\n",
    "plt.plot(l_vals, l_pdf)"
   ]
  },
  {
   "cell_type": "code",
   "execution_count": 26,
   "metadata": {},
   "outputs": [],
   "source": [
    "@jit\n",
    "def solve_st_eq(r_min = 0.01, r_max = 0.1,\n",
    "                n_vals = 100, tol = 1e-2):\n",
    "\n",
    "    r_range = np.linspace(r_min, r_max, n_vals)\n",
    "    #n_range = np.linspace(n_min, n_max, n_vals)\n",
    "\n",
    "    iter = 1\n",
    "\n",
    "\n",
    "    for r_i in r_range:\n",
    "\n",
    "        # == Initialize agent == #\n",
    "        am = agent(a_max=20)\n",
    "\n",
    "        # == k supply == #\n",
    "        k_s, l_s, w = cap_lab_stock(am, r_i)\n",
    "\n",
    "        # == corresponding firm r using inverse capital demand func == #\n",
    "        r_star = rd(k_s, l_s)\n",
    "\n",
    "        # Check deviation\n",
    "        error = np.absolute(r_i - r_star)\n",
    "\n",
    "        #print(f'## == Iter {iter}')\n",
    "        print('R guess: ', r_i)\n",
    "        print('R star: ', r_star)\n",
    "        print('Error: ', error)\n",
    "\n",
    "        iter += 1\n",
    "        if error < tol:\n",
    "            r_eq = r_i\n",
    "            k_eq = k_s\n",
    "            w_eq = w\n",
    "            l_eq = l_s\n",
    "            return r_eq, k_eq, w_eq, l_eq\n",
    "            break\n"
   ]
  },
  {
   "cell_type": "code",
   "execution_count": 27,
   "metadata": {},
   "outputs": [
    {
     "name": "stdout",
     "output_type": "stream",
     "text": [
      "R guess:  0.01\n",
      "R star:  -0.01497798420229779\n",
      "Error:  0.02497798420229779\n",
      "R guess:  0.01090909090909091\n",
      "R star:  -0.01500843082132279\n",
      "Error:  0.0259175217304137\n",
      "R guess:  0.011818181818181818\n",
      "R star:  -0.015078279244212359\n",
      "Error:  0.026896461062394177\n",
      "R guess:  0.013636363636363637\n",
      "R star:  -0.015233283369768653\n",
      "Error:  0.02886964700613229\n",
      "R guess:  0.015454545454545455\n",
      "R star:  -0.015442351035891998\n",
      "Error:  0.030896896490437455\n"
     ]
    },
    {
     "ename": "MemoryError",
     "evalue": "",
     "output_type": "error",
     "traceback": [
      "\u001b[1;31m---------------------------------------------------------------------------\u001b[0m",
      "\u001b[1;31mMemoryError\u001b[0m                               Traceback (most recent call last)",
      "\u001b[1;32m<ipython-input-27-da2899386c21>\u001b[0m in \u001b[0;36m<module>\u001b[1;34m\u001b[0m\n\u001b[0;32m      7\u001b[0m \u001b[0mcdelta\u001b[0m \u001b[1;33m=\u001b[0m \u001b[1;36m0.05\u001b[0m\u001b[1;33m\u001b[0m\u001b[1;33m\u001b[0m\u001b[0m\n\u001b[0;32m      8\u001b[0m \u001b[1;33m\u001b[0m\u001b[0m\n\u001b[1;32m----> 9\u001b[1;33m \u001b[0mr\u001b[0m\u001b[1;33m,\u001b[0m \u001b[0mk\u001b[0m\u001b[1;33m,\u001b[0m \u001b[0mw\u001b[0m\u001b[1;33m,\u001b[0m \u001b[0ml\u001b[0m \u001b[1;33m=\u001b[0m \u001b[0msolve_st_eq\u001b[0m\u001b[1;33m(\u001b[0m\u001b[1;33m)\u001b[0m\u001b[1;33m\u001b[0m\u001b[1;33m\u001b[0m\u001b[0m\n\u001b[0m\u001b[0;32m     10\u001b[0m \u001b[0mprint\u001b[0m\u001b[1;33m(\u001b[0m\u001b[1;34mf'Equilibrium Interest Rate: {r}'\u001b[0m\u001b[1;33m)\u001b[0m\u001b[1;33m\u001b[0m\u001b[1;33m\u001b[0m\u001b[0m\n\u001b[0;32m     11\u001b[0m \u001b[0mprint\u001b[0m\u001b[1;33m(\u001b[0m\u001b[1;34mf'Equilibrium Capital Stock: {k}'\u001b[0m\u001b[1;33m)\u001b[0m\u001b[1;33m\u001b[0m\u001b[1;33m\u001b[0m\u001b[0m\n",
      "\u001b[1;32m<ipython-input-15-f52f99cc641f>\u001b[0m in \u001b[0;36m__init__\u001b[1;34m(self, r, w, cbeta, a_min, a_max, a_size, P, z_vals)\u001b[0m\n\u001b[0;32m     32\u001b[0m \u001b[1;33m\u001b[0m\u001b[0m\n\u001b[0;32m     33\u001b[0m         \u001b[1;31m# Q\u001b[0m\u001b[1;33m\u001b[0m\u001b[1;33m\u001b[0m\u001b[1;33m\u001b[0m\u001b[0m\n\u001b[1;32m---> 34\u001b[1;33m         \u001b[0mself\u001b[0m\u001b[1;33m.\u001b[0m\u001b[0mQ\u001b[0m \u001b[1;33m=\u001b[0m \u001b[0mnp\u001b[0m\u001b[1;33m.\u001b[0m\u001b[0mempty\u001b[0m\u001b[1;33m(\u001b[0m\u001b[1;33m(\u001b[0m\u001b[0mself\u001b[0m\u001b[1;33m.\u001b[0m\u001b[0mn\u001b[0m\u001b[1;33m,\u001b[0m \u001b[0mself\u001b[0m\u001b[1;33m.\u001b[0m\u001b[0mm\u001b[0m\u001b[1;33m,\u001b[0m \u001b[0mself\u001b[0m\u001b[1;33m.\u001b[0m\u001b[0mn\u001b[0m\u001b[1;33m)\u001b[0m\u001b[1;33m)\u001b[0m\u001b[1;33m\u001b[0m\u001b[1;33m\u001b[0m\u001b[0m\n\u001b[0m\u001b[0;32m     35\u001b[0m         \u001b[0mself\u001b[0m\u001b[1;33m.\u001b[0m\u001b[0mset_Q\u001b[0m\u001b[1;33m(\u001b[0m\u001b[1;33m)\u001b[0m\u001b[1;33m\u001b[0m\u001b[1;33m\u001b[0m\u001b[0m\n\u001b[0;32m     36\u001b[0m \u001b[1;33m\u001b[0m\u001b[0m\n",
      "\u001b[1;31mMemoryError\u001b[0m: "
     ]
    }
   ],
   "source": [
    "# parameters\n",
    "cpsi = 1\n",
    "ceta = 2\n",
    "A = 1\n",
    "calpha = 0.33\n",
    "cbeta = 0.96\n",
    "cdelta = 0.05\n",
    "\n",
    "r, k, w, l = solve_st_eq()\n",
    "print(f'Equilibrium Interest Rate: {r}')\n",
    "print(f'Equilibrium Capital Stock: {k}')\n",
    "print(f'Equilibrium Wage: {w}')\n",
    "print(f'Equilibrium Labour Stock: {l}')"
   ]
  }
 ],
 "metadata": {
  "kernelspec": {
   "display_name": "Python 3",
   "language": "python",
   "name": "python3"
  },
  "language_info": {
   "codemirror_mode": {
    "name": "ipython",
    "version": 3
   },
   "file_extension": ".py",
   "mimetype": "text/x-python",
   "name": "python",
   "nbconvert_exporter": "python",
   "pygments_lexer": "ipython3",
   "version": "3.6.6"
  }
 },
 "nbformat": 4,
 "nbformat_minor": 2
}
