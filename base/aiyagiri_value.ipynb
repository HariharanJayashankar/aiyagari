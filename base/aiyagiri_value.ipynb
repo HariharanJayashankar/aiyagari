{
 "cells": [
  {
   "cell_type": "code",
   "execution_count": 1,
   "metadata": {},
   "outputs": [],
   "source": [
    "import numpy as np\n",
    "import quantecon as qe\n",
    "import matplotlib.pyplot as plt\n",
    "from numba import jit, njit, prange\n",
    "from quantecon.util import tic, toc"
   ]
  },
  {
   "cell_type": "code",
   "execution_count": 2,
   "metadata": {},
   "outputs": [],
   "source": [
    "@njit\n",
    "def u(c):\n",
    "    return np.log(c)"
   ]
  },
  {
   "cell_type": "code",
   "execution_count": 3,
   "metadata": {},
   "outputs": [],
   "source": [
    "class AiyagariProb:\n",
    "    \n",
    "    def __init__(self,\n",
    "                 r=0.01,                      # interest rate\n",
    "                 w=1.0,                       # wages\n",
    "                 cbeta=0.96,                  # discount factor\n",
    "                 a_min=-5,\n",
    "                 P=[[0.9, 0.1], [0.1, 0.9]],  # Markov chain\n",
    "                 z_vals=[0.1, 1.0],           # exogenous states\n",
    "                 a_max=18,\n",
    "                 a_size=200\n",
    "                 ):\n",
    "        \n",
    "        #making all options class objects\n",
    "        self.r, self.w, self.cbeta = r, w, cbeta \n",
    "        self.a_min, self.a_max, self.a_size = a_min, a_max, a_size\n",
    "        self.P, self.z_vals = np.asarray(P), np.asarray(z_vals)\n",
    "        self.z_size = len(z_vals)\n",
    "        \n",
    "        self.a_grid = np.linspace(a_min, a_max, a_size)\n",
    "    \n",
    "    def pack_params(self):\n",
    "        return self.r, self.w, self.cbeta, self.a_min, self.a_max, self.a_size, self.P, self.z_vals, self.a_grid\n",
    "        \n",
    "    def bellman_operator(self):\n",
    "        \n",
    "        r, w, cbeta, a_min, a_max, a_size, P, z_vals, a_grid = self.pack_params()\n",
    "        \n",
    "        @njit\n",
    "        def T(v, v_out, pol):\n",
    "            n, m = v.shape\n",
    "\n",
    "            for j in prange(m):\n",
    "                z = z_vals[j]\n",
    "\n",
    "                for i in range(n):\n",
    "                    x = a_grid[i]\n",
    "                    # Cash in hand at start of period\n",
    "                    y = (1.0 + r) * x + w * z\n",
    "                    max_so_far = - np.inf\n",
    "                    # Find largest x_grid index s.t. x' <= y\n",
    "                    idx = np.searchsorted(a_grid, y)\n",
    "                    # Step through x' with 0 <= x' <= y, find max\n",
    "                    for k in range(idx):\n",
    "                        x_next = a_grid[k]\n",
    "                        val = u(y - x_next) + cbeta * np.sum(v[k, :] * P[j, :])\n",
    "                        if val > max_so_far:\n",
    "                            max_so_far = val\n",
    "                            a_star = k\n",
    "\n",
    "                    pol[i, j] = a_star\n",
    "                    v_out[i, j] = max_so_far\n",
    "\n",
    "        return T"
   ]
  },
  {
   "cell_type": "code",
   "execution_count": 4,
   "metadata": {},
   "outputs": [],
   "source": [
    "@njit\n",
    "def vfi(T, v_init, tol=1e-4, max_iter=1000):\n",
    "\n",
    "    # Set initial condition, set up storage\n",
    "    v_in = v_init\n",
    "    v_out = np.empty_like(v_in)\n",
    "    pol = np.empty_like(v_in, dtype=np.int_)\n",
    "    # Set up loop\n",
    "    i = 0\n",
    "    error = tol + 1\n",
    "\n",
    "    while i < max_iter and error > tol:\n",
    "        T(v_in, v_out, pol)\n",
    "        error = np.max(np.abs(v_in - v_out))\n",
    "        i += 1\n",
    "        v_in[:] = v_out\n",
    "    return v_out, pol"
   ]
  },
  {
   "cell_type": "code",
   "execution_count": 5,
   "metadata": {},
   "outputs": [],
   "source": [
    "mod = AiyagariProb()\n",
    "T = mod.bellman_operator()\n",
    "v_init = np.ones((mod.a_size, mod.z_size))"
   ]
  },
  {
   "cell_type": "code",
   "execution_count": 6,
   "metadata": {},
   "outputs": [
    {
     "name": "stdout",
     "output_type": "stream",
     "text": [
      "TOC: Elapsed: 0:00:2.12\n"
     ]
    },
    {
     "data": {
      "text/plain": [
       "2.1291255950927734"
      ]
     },
     "execution_count": 6,
     "metadata": {},
     "output_type": "execute_result"
    }
   ],
   "source": [
    "tic()\n",
    "v_star, pol = vfi(T, v_init)\n",
    "toc()"
   ]
  },
  {
   "cell_type": "code",
   "execution_count": 7,
   "metadata": {},
   "outputs": [],
   "source": [
    "@njit(parallel=True)\n",
    "def simulate_stationary_assets(pol, \n",
    "                               P, \n",
    "                               a_grid, \n",
    "                               i_init=10, \n",
    "                               j_init=0, \n",
    "                               num_households=100_000,\n",
    "                               ts_length=1000):\n",
    "    asset_vals = np.empty(num_households)\n",
    "    for m in prange(num_households):\n",
    "        i = i_init\n",
    "        j = j_init\n",
    "\n",
    "        for t in range(ts_length-1):\n",
    "            i = pol[i, j]\n",
    "            j = qe.random.draw(np.cumsum(P[j, :]))\n",
    "            \n",
    "        asset_vals[m] = a_grid[i]\n",
    "        \n",
    "    return asset_vals"
   ]
  },
  {
   "cell_type": "code",
   "execution_count": 8,
   "metadata": {},
   "outputs": [
    {
     "name": "stdout",
     "output_type": "stream",
     "text": [
      "TOC: Elapsed: 0:00:12.38\n"
     ]
    },
    {
     "data": {
      "image/png": "[encoded data removed]",
      "text/plain": [
       "<Figure size 432x288 with 1 Axes>"
      ]
     },
     "metadata": {
      "needs_background": "light"
     },
     "output_type": "display_data"
    }
   ],
   "source": [
    "tic()\n",
    "asset_vals = simulate_stationary_assets(pol,mod.P, mod.a_grid)\n",
    "toc()\n",
    "fig, ax = plt.subplots()\n",
    "ax.hist(asset_vals, bins = 30, density=True)\n",
    "plt.show()"
   ]
  },
  {
   "cell_type": "code",
   "execution_count": 66,
   "metadata": {},
   "outputs": [],
   "source": [
    "A = 1.0\n",
    "N = 1.0\n",
    "calpha = 0.33\n",
    "cbeta = 0.96\n",
    "cdelta = 0.05\n",
    "\n",
    "\n",
    "def r_to_w(r):\n",
    "    \"\"\"\n",
    "    Equilibrium wages associated with a given interest rate r.\n",
    "    \"\"\"\n",
    "    \n",
    "    return (A * (1 - calpha) * (A * calpha / (r + cdelta))**(calpha / (1 - calpha)))\n",
    "\n",
    "def rd(K):\n",
    "    \"\"\"\n",
    "    Inverse demand curve for capital.  The interest rate associated with a\n",
    "    given demand for capital K.\n",
    "    \"\"\"\n",
    "    return (A * calpha * (N / K)**(1 - calpha) - cdelta)\n",
    "\n",
    "def prices_to_capital_stock():\n",
    "    \"\"\"\n",
    "    Map prices to the induced level of capital stock.\n",
    "    \n",
    "    Parameters:\n",
    "    ----------\n",
    "    \n",
    "    am : Household\n",
    "        An instance of an aiyagari_household.Household \n",
    "    r : float\n",
    "        The interest rate\n",
    "    \"\"\"\n",
    "    asset_vals = simulate_stationary_assets(pol,mod.P, mod.a_grid)\n",
    "    return np.mean(asset_vals)\n"
   ]
  },
  {
   "cell_type": "code",
   "execution_count": 136,
   "metadata": {},
   "outputs": [],
   "source": [
    "r, k = get_eq()"
   ]
  },
  {
   "cell_type": "code",
   "execution_count": 107,
   "metadata": {},
   "outputs": [
    {
     "name": "stdout",
     "output_type": "stream",
     "text": [
      "Iter: 1 ; Error: 0.042182406198914016; interest rate: 0.02\n",
      "Iter: 2 ; Error: 0.040328377282053005; interest rate: 0.020689655172413793\n",
      "Iter: 3 ; Error: 0.03738892113103212; interest rate: 0.021379310344827585\n",
      "Iter: 4 ; Error: 0.03555748410213659; interest rate: 0.02206896551724138\n",
      "Iter: 5 ; Error: 0.03274195046880719; interest rate: 0.022758620689655173\n",
      "Iter: 6 ; Error: 0.030102389993885075; interest rate: 0.023448275862068966\n",
      "Iter: 7 ; Error: 0.028030998439461878; interest rate: 0.02413793103448276\n",
      "Iter: 8 ; Error: 0.025272277111967584; interest rate: 0.024827586206896554\n",
      "Iter: 9 ; Error: 0.02257943091596194; interest rate: 0.025517241379310347\n",
      "Iter: 10 ; Error: 0.019988859194551893; interest rate: 0.02620689655172414\n",
      "Iter: 11 ; Error: 0.017597155389363853; interest rate: 0.02689655172413793\n",
      "Iter: 12 ; Error: 0.015066455280030727; interest rate: 0.027586206896551724\n",
      "Iter: 13 ; Error: 0.012495614334281806; interest rate: 0.02827586206896552\n",
      "Iter: 14 ; Error: 0.010144634158773928; interest rate: 0.028965517241379312\n",
      "Iter: 15 ; Error: 0.007271891689671198; interest rate: 0.029655172413793104\n",
      "Iter: 16 ; Error: 0.005015245119751217; interest rate: 0.0303448275862069\n",
      "Iter: 17 ; Error: 0.002624760290277424; interest rate: 0.03103448275862069\n",
      "Iter: 18 ; Error: 0.00010969040340824687; interest rate: 0.031724137931034485\n"
     ]
    }
   ],
   "source": [
    "#getting equilibrium\n",
    "\n",
    "r_range = np.linspace(0.02, 0.04, 30)\n",
    "tol = 1e-3\n",
    "error = tol + 1\n",
    "n = 0\n",
    "n_iter = 100\n",
    "\n",
    "while error > tol and n < n_iter:\n",
    "\n",
    "    r_i = r_range[n]\n",
    "    # Figure out firm problem\n",
    "\n",
    "    w_i = r_to_w(r_i)\n",
    "\n",
    "    # Solve agents problems\n",
    "    mod = AiyagariProb(r = r_i, w = w_i)\n",
    "    T = mod.bellman_operator()\n",
    "    v_init = np.ones((mod.a_size, mod.z_size))\n",
    "    v_star, pol = vfi(T, v_init)\n",
    "\n",
    "    k_s = prices_to_capital_stock()\n",
    "\n",
    "    # get back how much the firm is willing to pay for that K_s\n",
    "    r_star = rd(k_s)\n",
    "\n",
    "    # Error\n",
    "    error = np.absolute(r_star - r_i)\n",
    "\n",
    "    n = n + 1\n",
    "    \n",
    "    print(f'Iter: {n} ; Error: {error}; interest rate: {r_i}')\n",
    "\n",
    "print(f'Equilibrium Interest Rate: {r_i} \\nEquilibrium Capital Stock: {k_s}')"
   ]
  },
  {
   "cell_type": "markdown",
   "metadata": {},
   "source": [
    "# Experimental Stuff"
   ]
  }
 ],
 "metadata": {
  "kernelspec": {
   "display_name": "Python 3",
   "language": "python",
   "name": "python3"
  },
  "language_info": {
   "codemirror_mode": {
    "name": "ipython",
    "version": 3
   },
   "file_extension": ".py",
   "mimetype": "text/x-python",
   "name": "python",
   "nbconvert_exporter": "python",
   "pygments_lexer": "ipython3",
   "version": "3.6.6"
  }
 },
 "nbformat": 4,
 "nbformat_minor": 2
}
