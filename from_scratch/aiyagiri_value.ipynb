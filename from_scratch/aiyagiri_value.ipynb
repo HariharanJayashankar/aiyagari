{
 "cells": [
  {
   "cell_type": "code",
   "execution_count": 1,
   "metadata": {},
   "outputs": [],
   "source": [
    "import numpy as np\n",
    "import quantecon as qe\n",
    "import matplotlib.pyplot as plt\n",
    "from numba import jit, njit, prange\n",
    "from quantecon.util import tic, toc"
   ]
  },
  {
   "cell_type": "code",
   "execution_count": 2,
   "metadata": {},
   "outputs": [],
   "source": [
    "@njit\n",
    "def u(c):\n",
    "    return np.log(c)"
   ]
  },
  {
   "cell_type": "code",
   "execution_count": 3,
   "metadata": {},
   "outputs": [],
   "source": [
    "class AiyagariProb:\n",
    "    \n",
    "    def __init__(self,\n",
    "                 r=0.01,                      # interest rate\n",
    "                 w=1.0,                       # wages\n",
    "                 cbeta=0.96,                  # discount factor\n",
    "                 a_min=1e-10,\n",
    "                 P=[[0.9, 0.1], [0.1, 0.9]],  # Markov chain\n",
    "                 z_vals=[0.1, 1.0],           # exogenous states\n",
    "                 a_max=18,\n",
    "                 a_size=200\n",
    "                 ):\n",
    "        \n",
    "        #making all options class objects\n",
    "        self.r, self.w, self.cbeta = r, w, cbeta \n",
    "        self.a_min, self.a_max, self.a_size = a_min, a_max, a_size\n",
    "        self.P, self.z_vals = np.asarray(P), np.asarray(z_vals)\n",
    "        self.z_size = len(z_vals)\n",
    "        \n",
    "        self.a_grid = np.linspace(a_min, a_max, a_size)\n",
    "    \n",
    "    def pack_params(self):\n",
    "        return self.r, self.w, self.cbeta, self.a_min, self.a_max, self.a_size, self.P, self.z_vals, self.a_grid\n",
    "        \n",
    "    def bellman_operator(self):\n",
    "        \n",
    "        r, w, cbeta, a_min, a_max, a_size, P, z_vals, a_grid = self.pack_params()\n",
    "        \n",
    "        @njit\n",
    "        def T(v, v_out, pol):\n",
    "            n, m = v.shape\n",
    "\n",
    "            for j in prange(m):\n",
    "                z = z_vals[j]\n",
    "\n",
    "                for i in range(n):\n",
    "                    x = a_grid[i]\n",
    "                    # Cash in hand at start of period\n",
    "                    y = (1.0 + r) * x + w * z\n",
    "                    max_so_far = - np.inf\n",
    "                    # Find largest x_grid index s.t. x' <= y\n",
    "                    idx = np.searchsorted(a_grid, y)\n",
    "                    # Step through x' with 0 <= x' <= y, find max\n",
    "                    for k in range(idx):\n",
    "                        x_next = a_grid[k]\n",
    "                        val = u(y - x_next) + cbeta * np.sum(v[k, :] * P[j, :])\n",
    "                        if val > max_so_far:\n",
    "                            max_so_far = val\n",
    "                            a_star = k\n",
    "\n",
    "                    pol[i, j] = a_star\n",
    "                    v_out[i, j] = max_so_far\n",
    "\n",
    "        return T"
   ]
  },
  {
   "cell_type": "code",
   "execution_count": 43,
   "metadata": {},
   "outputs": [],
   "source": [
    "def value_function_iteration(T, \n",
    "                             v_init,\n",
    "                             tol=1e-4, \n",
    "                             max_iter=1000, \n",
    "                             verbose=True,\n",
    "                             print_skip=25):\n",
    "\n",
    "    # Set initial condition, set up storage\n",
    "    v_in = v_init\n",
    "    v_out = np.empty_like(v_in)\n",
    "    pol = np.empty_like(v_in, dtype=np.int)\n",
    "\n",
    "    # Set up loop\n",
    "    i = 0\n",
    "    error = tol + 1\n",
    "\n",
    "    while i < max_iter and error > tol:\n",
    "        T(v_in, v_out, pol)\n",
    "        error = np.max(np.abs(v_in - v_out))\n",
    "        i += 1\n",
    "        if i % print_skip == 0:\n",
    "            print(f\"Value Function Calc: Error at iteration {i} is {error}.\")\n",
    "        v_in[:] = v_out\n",
    "\n",
    "    if i == max_iter: \n",
    "        print(\"Value Function Calc: Failed to converge!\")\n",
    "\n",
    "    if verbose and i < max_iter:\n",
    "        print(f\"Value Function Calc: \\nConverged in {i} iterations.\")\n",
    "\n",
    "    return v_out, pol\n",
    "\n",
    "\n",
    "@njit\n",
    "def jitted_vfi(T, v_init, tol=1e-4, max_iter=1000):\n",
    "\n",
    "    # Set initial condition, set up storage\n",
    "    v_in = v_init\n",
    "    v_out = np.empty_like(v_in)\n",
    "    pol = np.empty_like(v_in, dtype=np.int_)\n",
    "    # Set up loop\n",
    "    i = 0\n",
    "    error = tol + 1\n",
    "\n",
    "    while i < max_iter and error > tol:\n",
    "        T(v_in, v_out, pol)\n",
    "        error = np.max(np.abs(v_in - v_out))\n",
    "        i += 1\n",
    "        v_in[:] = v_out\n",
    "    return v_out, pol"
   ]
  },
  {
   "cell_type": "code",
   "execution_count": 11,
   "metadata": {},
   "outputs": [],
   "source": [
    "mod = AiyagariProb()\n",
    "T = mod.bellman_operator()\n",
    "v_init = np.ones((mod.a_size, mod.z_size))"
   ]
  },
  {
   "cell_type": "code",
   "execution_count": 12,
   "metadata": {},
   "outputs": [
    {
     "name": "stdout",
     "output_type": "stream",
     "text": [
      "Error at iteration 25 is 0.36220107656560074.\n",
      "Error at iteration 50 is 0.12418447363760521.\n",
      "Error at iteration 75 is 0.044534594737768884.\n",
      "Error at iteration 100 is 0.016041160141224253.\n",
      "Error at iteration 125 is 0.00578080840271511.\n",
      "Error at iteration 150 is 0.0020833697581821298.\n",
      "Error at iteration 175 is 0.0007508390474555426.\n",
      "Error at iteration 200 is 0.0002705999050931496.\n",
      "Error at iteration 225 is 9.752331649792723e-05.\n",
      "\n",
      "Converged in 225 iterations.\n",
      "TOC: Elapsed: 0:00:1.37\n"
     ]
    },
    {
     "data": {
      "text/plain": [
       "1.3772695064544678"
      ]
     },
     "execution_count": 12,
     "metadata": {},
     "output_type": "execute_result"
    }
   ],
   "source": [
    "tic()\n",
    "v_star, pol = value_function_iteration(T, v_init)\n",
    "toc()"
   ]
  },
  {
   "cell_type": "code",
   "execution_count": 13,
   "metadata": {},
   "outputs": [],
   "source": [
    "@njit(parallel=True)\n",
    "def simulate_stationary_assets(pol, \n",
    "                               P, \n",
    "                               a_grid, \n",
    "                               i_init=10, \n",
    "                               j_init=0, \n",
    "                               num_households=100_000,\n",
    "                               ts_length=1000):\n",
    "    asset_vals = np.empty(num_households)\n",
    "    for m in prange(num_households):\n",
    "        i = i_init\n",
    "        j = j_init\n",
    "\n",
    "        for t in range(ts_length-1):\n",
    "            i = pol[i, j]\n",
    "            j = qe.random.draw(np.cumsum(P[j, :]))\n",
    "            \n",
    "        asset_vals[m] = a_grid[i]\n",
    "        \n",
    "    return asset_vals"
   ]
  },
  {
   "cell_type": "code",
   "execution_count": 22,
   "metadata": {},
   "outputs": [
    {
     "data": {
      "image/png": "[encoded data removed]",
      "text/plain": [
       "<Figure size 432x288 with 1 Axes>"
      ]
     },
     "metadata": {
      "needs_background": "light"
     },
     "output_type": "display_data"
    }
   ],
   "source": [
    "asset_vals = simulate_stationary_assets(pol,mod.P, mod.a_grid)\n",
    "fig, ax = plt.subplots()\n",
    "ax.hist(asset_vals, bins=20, density=True)\n",
    "plt.show()"
   ]
  },
  {
   "cell_type": "code",
   "execution_count": 52,
   "metadata": {},
   "outputs": [],
   "source": [
    "A = 1.0\n",
    "N = 1.0\n",
    "calpha = 0.33\n",
    "cbeta = 0.96\n",
    "cdelta = 0.05\n",
    "\n",
    "\n",
    "def r_to_w(r):\n",
    "    \"\"\"\n",
    "    Equilibrium wages associated with a given interest rate r.\n",
    "    \"\"\"\n",
    "    return A * (1 - calpha) * (A * calpha / (r + cdelta))**(calpha / (1 - calpha))\n",
    "\n",
    "def rd(K):\n",
    "    \"\"\"\n",
    "    Inverse demand curve for capital.  The interest rate associated with a\n",
    "    given demand for capital K.\n",
    "    \"\"\"\n",
    "    return A * calpha * (N / K)**(1 - calpha) - cdelta\n",
    "\n",
    "\n",
    "def prices_to_capital_stock():\n",
    "    \"\"\"\n",
    "    Map prices to the induced level of capital stock.\n",
    "    \n",
    "    Parameters:\n",
    "    ----------\n",
    "    \n",
    "    am : Household\n",
    "        An instance of an aiyagari_household.Household \n",
    "    r : float\n",
    "        The interest rate\n",
    "    \"\"\"\n",
    "    asset_vals = simulate_stationary_assets(pol,mod.P, mod.a_grid)\n",
    "    return np.mean(asset_vals)\n"
   ]
  },
  {
   "cell_type": "code",
   "execution_count": 54,
   "metadata": {},
   "outputs": [],
   "source": [
    "\n",
    "def get_eq(r_min = 0.02, r_max = 0.04, r_size = 100, tol = 1e-3):\n",
    "    \n",
    "    r_range = np.linspace(r_min, r_max, r_size)\n",
    "    iter = 0\n",
    "    \n",
    "    for r_i in r_range:\n",
    "        \n",
    "        # Figure out firm problem\n",
    "        w_i = r_to_w(r_i)\n",
    "        \n",
    "        # Solve agents problems\n",
    "        mod = AiyagariProb(r = r_i, w = w_i)\n",
    "        T = mod.bellman_operator()\n",
    "        v_init = np.ones((mod.a_size, mod.z_size))\n",
    "        v_star, pol = jitted_vfi(T, v_init)\n",
    "        \n",
    "        k_s = prices_to_capital_stock()\n",
    "        \n",
    "        # get back how much the firm is willing to pay for that K_s\n",
    "        r_star = rd(k_s)\n",
    "        \n",
    "        # Error\n",
    "        error = np.absolute(r_star - r_i)\n",
    "        \n",
    "        print(\" \")\n",
    "        print(f\"Equilbrium Calc: Error is {error}\")\n",
    "        \n",
    "        iter += 1\n",
    "        \n",
    "        if error < tol:\n",
    "            \n",
    "            r_eq = r_star\n",
    "            k_eq = k_s\n",
    "            print(f\"#################################\")\n",
    "            print(f\"Equilibrium Interest Rate: {r_eq}\")\n",
    "            print(f\"Equilibrium Capital Stock: {k_eq}\")\n",
    "            print(f\"#################################\")\n",
    "            \n",
    "            break"
   ]
  },
  {
   "cell_type": "code",
   "execution_count": 53,
   "metadata": {},
   "outputs": [
    {
     "name": "stdout",
     "output_type": "stream",
     "text": [
      "7.425451356842669\n"
     ]
    }
   ],
   "source": [
    "r_i = 0.03\n",
    "w_i = r_to_w(r_i)\n",
    "mod = AiyagariProb(r = r_i, w = w_i)\n",
    "T = mod.bellman_operator()\n",
    "v_init = np.ones((mod.a_size, mod.z_size))\n",
    "v_star, pol = jitted_vfi(T, v_init)\n",
    "\n",
    "k_s = prices_to_capital_stock()\n",
    "print(k_s)"
   ]
  },
  {
   "cell_type": "code",
   "execution_count": 55,
   "metadata": {},
   "outputs": [
    {
     "name": "stdout",
     "output_type": "stream",
     "text": [
      " \n",
      "Equilbrium Calc: Error is 0.01604073965443018\n",
      " \n",
      "Equilbrium Calc: Error is 0.015920077016676058\n",
      " \n",
      "Equilbrium Calc: Error is 0.01580353779658946\n",
      " \n",
      "Equilbrium Calc: Error is 0.015258386415438717\n",
      " \n",
      "Equilbrium Calc: Error is 0.015109111911358934\n",
      " \n",
      "Equilbrium Calc: Error is 0.014999204248596989\n",
      " \n",
      "Equilbrium Calc: Error is 0.01476046626254544\n",
      " \n",
      "Equilbrium Calc: Error is 0.014730932627048318\n",
      " \n",
      "Equilbrium Calc: Error is 0.01431465826513817\n",
      " \n",
      "Equilbrium Calc: Error is 0.014400185361964662\n",
      " \n",
      "Equilbrium Calc: Error is 0.014141375822621666\n",
      " \n",
      "Equilbrium Calc: Error is 0.013761564095400986\n",
      " \n",
      "Equilbrium Calc: Error is 0.013600569695030311\n",
      " \n",
      "Equilbrium Calc: Error is 0.013483108296901407\n",
      " \n",
      "Equilbrium Calc: Error is 0.01326654748880201\n",
      " \n",
      "Equilbrium Calc: Error is 0.012997642138626957\n",
      " \n",
      "Equilbrium Calc: Error is 0.012786363790431157\n",
      " \n",
      "Equilbrium Calc: Error is 0.012402516708762853\n",
      " \n",
      "Equilbrium Calc: Error is 0.012409235659797624\n",
      " \n",
      "Equilbrium Calc: Error is 0.012385283929486443\n",
      " \n",
      "Equilbrium Calc: Error is 0.011721895338035138\n",
      " \n",
      "Equilbrium Calc: Error is 0.011755337730273933\n",
      " \n",
      "Equilbrium Calc: Error is 0.011637922351407513\n"
     ]
    },
    {
     "ename": "KeyboardInterrupt",
     "evalue": "",
     "output_type": "error",
     "traceback": [
      "\u001b[1;31m---------------------------------------------------------------------------\u001b[0m",
      "\u001b[1;31mKeyboardInterrupt\u001b[0m                         Traceback (most recent call last)",
      "\u001b[1;32m<ipython-input-55-86afb0fc29a2>\u001b[0m in \u001b[0;36m<module>\u001b[1;34m()\u001b[0m\n\u001b[1;32m----> 1\u001b[1;33m \u001b[0mget_eq\u001b[0m\u001b[1;33m(\u001b[0m\u001b[1;33m)\u001b[0m\u001b[1;33m\u001b[0m\u001b[0m\n\u001b[0m",
      "\u001b[1;32m<ipython-input-54-1c31b8a634e2>\u001b[0m in \u001b[0;36mget_eq\u001b[1;34m(r_min, r_max, r_size, tol)\u001b[0m\n\u001b[0;32m     16\u001b[0m         \u001b[0mv_star\u001b[0m\u001b[1;33m,\u001b[0m \u001b[0mpol\u001b[0m \u001b[1;33m=\u001b[0m \u001b[0mjitted_vfi\u001b[0m\u001b[1;33m(\u001b[0m\u001b[0mT\u001b[0m\u001b[1;33m,\u001b[0m \u001b[0mv_init\u001b[0m\u001b[1;33m)\u001b[0m\u001b[1;33m\u001b[0m\u001b[0m\n\u001b[0;32m     17\u001b[0m \u001b[1;33m\u001b[0m\u001b[0m\n\u001b[1;32m---> 18\u001b[1;33m         \u001b[0mk_s\u001b[0m \u001b[1;33m=\u001b[0m \u001b[0mprices_to_capital_stock\u001b[0m\u001b[1;33m(\u001b[0m\u001b[1;33m)\u001b[0m\u001b[1;33m.\u001b[0m\u001b[0mmean\u001b[0m\u001b[1;33m(\u001b[0m\u001b[1;33m)\u001b[0m\u001b[1;33m\u001b[0m\u001b[0m\n\u001b[0m\u001b[0;32m     19\u001b[0m \u001b[1;33m\u001b[0m\u001b[0m\n\u001b[0;32m     20\u001b[0m         \u001b[1;31m# get back how much the firm is willing to pay for that K_s\u001b[0m\u001b[1;33m\u001b[0m\u001b[1;33m\u001b[0m\u001b[0m\n",
      "\u001b[1;32m<ipython-input-52-3640c6a6c93a>\u001b[0m in \u001b[0;36mprices_to_capital_stock\u001b[1;34m()\u001b[0m\n\u001b[0;32m     32\u001b[0m         \u001b[0mThe\u001b[0m \u001b[0minterest\u001b[0m \u001b[0mrate\u001b[0m\u001b[1;33m\u001b[0m\u001b[0m\n\u001b[0;32m     33\u001b[0m     \"\"\"\n\u001b[1;32m---> 34\u001b[1;33m     \u001b[0masset_vals\u001b[0m \u001b[1;33m=\u001b[0m \u001b[0msimulate_stationary_assets\u001b[0m\u001b[1;33m(\u001b[0m\u001b[0mpol\u001b[0m\u001b[1;33m,\u001b[0m\u001b[0mmod\u001b[0m\u001b[1;33m.\u001b[0m\u001b[0mP\u001b[0m\u001b[1;33m,\u001b[0m \u001b[0mmod\u001b[0m\u001b[1;33m.\u001b[0m\u001b[0ma_grid\u001b[0m\u001b[1;33m)\u001b[0m\u001b[1;33m\u001b[0m\u001b[0m\n\u001b[0m\u001b[0;32m     35\u001b[0m     \u001b[1;32mreturn\u001b[0m \u001b[0mnp\u001b[0m\u001b[1;33m.\u001b[0m\u001b[0mmean\u001b[0m\u001b[1;33m(\u001b[0m\u001b[0masset_vals\u001b[0m\u001b[1;33m)\u001b[0m\u001b[1;33m\u001b[0m\u001b[0m\n",
      "\u001b[1;31mKeyboardInterrupt\u001b[0m: "
     ]
    }
   ],
   "source": [
    "get_eq()"
   ]
  }
 ],
 "metadata": {
  "kernelspec": {
   "display_name": "Python 3",
   "language": "python",
   "name": "python3"
  },
  "language_info": {
   "codemirror_mode": {
    "name": "ipython",
    "version": 3
   },
   "file_extension": ".py",
   "mimetype": "text/x-python",
   "name": "python",
   "nbconvert_exporter": "python",
   "pygments_lexer": "ipython3",
   "version": "3.6.6"
  }
 },
 "nbformat": 4,
 "nbformat_minor": 2
}
