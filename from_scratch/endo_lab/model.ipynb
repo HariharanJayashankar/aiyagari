{
 "cells": [
  {
   "cell_type": "code",
   "execution_count": 1,
   "metadata": {},
   "outputs": [],
   "source": [
    "import numpy as np\n",
    "import quantecon as qe\n",
    "import matplotlib.pyplot as plt\n",
    "plt.style.use('ggplot')\n",
    "from numba import jit, njit, prange\n",
    "from quantecon.util import tic, toc\n",
    "from scipy import stats"
   ]
  },
  {
   "cell_type": "code",
   "execution_count": 2,
   "metadata": {},
   "outputs": [],
   "source": [
    "@njit\n",
    "def u(c, l, cpsi, ceta):\n",
    "    return np.log(c) - cpsi * (l)**(1 + ceta)/(1 + ceta)"
   ]
  },
  {
   "cell_type": "code",
   "execution_count": 62,
   "metadata": {},
   "outputs": [],
   "source": [
    "class AiyagariProb:\n",
    "    \n",
    "    def __init__(self,\n",
    "                 r=0.02,                      # interest rate\n",
    "                 w=1.5,                       # wages\n",
    "                 cpsi = 1,\n",
    "                 ceta = 1.25,\n",
    "                 cbeta=0.96,                  # discount factor\n",
    "                 a_min=1e-10,\n",
    "                 a_max=18,\n",
    "                 a_size=100,\n",
    "                 sigma_eps = 0.1,\n",
    "                 z_size = 16,\n",
    "                 d = 0.0,\n",
    "                 rho = 0.9\n",
    "                 ):\n",
    "        \n",
    "        #making all options class objects\n",
    "        self.r, self.w, self.cpsi, self.ceta, self.cbeta = r, w, cpsi, ceta, cbeta \n",
    "        self.a_min, self.a_max, self.a_size = a_min, a_max, a_size\n",
    "        self.l_size = a_size\n",
    "        \n",
    "        # productivity shocks\n",
    "        mc = qe.rouwenhorst(z_size, d, sigma_eps, rho)\n",
    "        self.P = mc.P\n",
    "        self.z_size = z_size\n",
    "        self.z_vals = np.exp(mc.state_values)\n",
    "        \n",
    "        self.a_grid = np.linspace(a_min, a_max, a_size)\n",
    "        self.l_grid = np.linspace(1e-6, 1, a_size)\n",
    "    \n",
    "    def pack_params(self):\n",
    "        return self.r, self.w, self.cpsi, self.ceta, self.cbeta, self.a_min, self.a_max, self.a_size, self.P, self.z_vals, self.a_grid, self.l_grid\n",
    "        \n",
    "    def bellman_operator(self):\n",
    "        \n",
    "        r, w, cpsi, ceta, cbeta, a_min, a_max, a_size, P, z_vals, a_grid, l_grid = self.pack_params()\n",
    "        \n",
    "        @njit(parallel = True)\n",
    "        def T(v, v_out, pola, poll):\n",
    "            for j in prange(len(z_vals)):\n",
    "                z = z_vals[j]\n",
    "                for i in prange(a_size):\n",
    "                    x = a_grid[i]\n",
    "                    max_so_far_comb = - np.inf\n",
    "                    for l_i in prange(a_size):\n",
    "                        l = l_grid[l_i]\n",
    "                        y = (1.0 + r) * x + w * z * l\n",
    "                        # Find largest x_grid index s.t. x' <= y\n",
    "                        max_so_far_k = - np.inf\n",
    "                        idx = np.searchsorted(a_grid, y)\n",
    "                        # Step through x' with 0 <= x' <= y, find max\n",
    "                        for k in range(idx):\n",
    "                            x_next = a_grid[k]\n",
    "                            val = u(y - x_next, l, cpsi, ceta) + cbeta * np.sum(v[k*a_size + l_i, :] * P[j, :])\n",
    "                            if val > max_so_far_k:\n",
    "                                max_so_far_k = val\n",
    "                                a_star = k\n",
    "                            \n",
    "                        # for a given l check which k gives max val,\n",
    "                        # then step outside 1 loop, and see if it's the max val for the l's done so far\n",
    "                                \n",
    "                        if max_so_far_k > max_so_far_comb:\n",
    "                            max_so_far_comb = max_so_far_k\n",
    "                            l_star = l_i\n",
    "\n",
    "                        pola[i, j] = a_star\n",
    "                        poll[i, j] = l_star\n",
    "                        v_out[i*a_size + l_i, j] = max_so_far_comb\n",
    "\n",
    "        return T"
   ]
  },
  {
   "cell_type": "code",
   "execution_count": 63,
   "metadata": {},
   "outputs": [],
   "source": [
    "@njit\n",
    "def vfi(T, v_init, pol_init, tol=1e-4, max_iter=1000):\n",
    "\n",
    "    # Set initial condition, set up storage\n",
    "    v_in = v_init\n",
    "    v_out = np.empty_like(v_in)\n",
    "    pola = pol_init\n",
    "    poll = np.empty_like(pola, dtype=np.int_)\n",
    "    # Set up loop\n",
    "    i = 0\n",
    "    error = tol + 1\n",
    "    while i < max_iter and error > tol: #a while loop works faster here than a prange loop for some reason\n",
    "        T(v_in, v_out, pola, poll)\n",
    "        error = np.max(np.abs(v_in - v_out))\n",
    "        i += 1\n",
    "        v_in[:] = v_out\n",
    "    return v_out, pola, poll"
   ]
  },
  {
   "cell_type": "code",
   "execution_count": 64,
   "metadata": {},
   "outputs": [],
   "source": [
    "mod = AiyagariProb()\n",
    "T = mod.bellman_operator()\n",
    "v_init = np.ones(((mod.a_size * mod.a_size), mod.z_size))\n",
    "pol_init = np.empty((mod.a_size, mod.z_size), dtype=np.int_)"
   ]
  },
  {
   "cell_type": "code",
   "execution_count": 65,
   "metadata": {},
   "outputs": [
    {
     "name": "stdout",
     "output_type": "stream",
     "text": [
      "TOC: Elapsed: 0:00:29.85\n"
     ]
    },
    {
     "data": {
      "text/plain": [
       "29.85806894302368"
      ]
     },
     "execution_count": 65,
     "metadata": {},
     "output_type": "execute_result"
    }
   ],
   "source": [
    "tic()\n",
    "v_star, pola, poll = vfi(T, v_init, pol_init)\n",
    "toc()"
   ]
  },
  {
   "cell_type": "code",
   "execution_count": 66,
   "metadata": {},
   "outputs": [],
   "source": [
    "@njit(parallel=True)\n",
    "def simulate_stationary(pola,\n",
    "                        poll,\n",
    "                        P, \n",
    "                        a_grid,\n",
    "                        l_grid,\n",
    "                        z_vals,\n",
    "                        i_init=10, \n",
    "                        j_init=0, \n",
    "                        num_households=100_000,\n",
    "                        ts_length=1000):\n",
    "    \n",
    "    asset_vals = np.empty(num_households)\n",
    "    elab_vals = np.empty(num_households)\n",
    "    for m in prange(num_households):\n",
    "        i = i_init\n",
    "        j = j_init\n",
    "\n",
    "        for t in prange(ts_length-1):\n",
    "            l_i = poll[i, j] #given k_0 and z_0, which l to choose optimally\n",
    "            i = pola[i, j] #transition from k_0, z_0 to k_1\n",
    "            j = qe.random.draw(np.cumsum(P[j, :]))\n",
    "            \n",
    "        asset_vals[m] = a_grid[i]\n",
    "        elab_vals[m] = z_vals[j] * l_grid[l_i]\n",
    "        \n",
    "    return asset_vals, elab_vals"
   ]
  },
  {
   "cell_type": "code",
   "execution_count": 67,
   "metadata": {},
   "outputs": [
    {
     "name": "stdout",
     "output_type": "stream",
     "text": [
      "TOC: Elapsed: 0:00:13.15\n"
     ]
    },
    {
     "data": {
      "image/png": "[encoded data removed]",
      "text/plain": [
       "<Figure size 432x288 with 1 Axes>"
      ]
     },
     "metadata": {
      "needs_background": "light"
     },
     "output_type": "display_data"
    }
   ],
   "source": [
    "tic()\n",
    "asset_vals, elab_vals = simulate_stationary(pola, poll, mod.P, mod.a_grid, mod.l_grid, mod.z_vals)\n",
    "toc()\n",
    "fig, ax = plt.subplots()\n",
    "ax.hist(elab_vals, bins = 20, density=True)\n",
    "plt.show()"
   ]
  },
  {
   "cell_type": "code",
   "execution_count": 68,
   "metadata": {},
   "outputs": [
    {
     "data": {
      "image/png": "[encoded data removed]",
      "text/plain": [
       "<Figure size 432x288 with 1 Axes>"
      ]
     },
     "metadata": {
      "needs_background": "light"
     },
     "output_type": "display_data"
    }
   ],
   "source": [
    "fig, ax = plt.subplots()\n",
    "ax.hist(asset_vals, bins = 20, density=True)\n",
    "plt.show()"
   ]
  },
  {
   "cell_type": "code",
   "execution_count": 14,
   "metadata": {},
   "outputs": [],
   "source": [
    "@njit\n",
    "def compute_stationary(T, v_init, pol_init, P, a_grid, l_grid, z_vals):\n",
    "    v_out, pola, poll = vfi(T, v_init, pol_init)\n",
    "    asset_vals, elab_vals = simulate_stationary(pola, poll, P, a_grid, l_grid, z_vals)\n",
    "    k = asset_vals.mean()\n",
    "    l = elab_vals.mean()\n",
    "    return k, l"
   ]
  },
  {
   "cell_type": "code",
   "execution_count": 15,
   "metadata": {},
   "outputs": [
    {
     "data": {
      "text/plain": [
       "(0.03448000009984177, 1.0267041705516327)"
      ]
     },
     "execution_count": 15,
     "metadata": {},
     "output_type": "execute_result"
    }
   ],
   "source": [
    "v_init = np.ones(((mod.a_size * mod.a_size), mod.z_size))\n",
    "pol_init = np.empty((mod.a_size, mod.z_size), dtype=np.int_)\n",
    "compute_stationary(T, v_init, pol_init, mod.P, mod.a_grid, mod.l_grid, mod.z_vals)"
   ]
  },
  {
   "cell_type": "code",
   "execution_count": 16,
   "metadata": {},
   "outputs": [],
   "source": [
    "A = 1.0\n",
    "calpha = 0.33\n",
    "cbeta = 0.96\n",
    "cdelta = 0.05\n",
    "cpsi = 1\n",
    "ceta = 1.25\n",
    "\n",
    "\n",
    "def r_to_w(r):\n",
    "    \"\"\"\n",
    "    Equilibrium wages associated with a given interest rate r.\n",
    "    \"\"\"\n",
    "    \n",
    "    return (A * (1 - calpha) * (A * calpha / (r + cdelta))**(calpha / (1 - calpha)))\n",
    "\n",
    "def rd(K, L):\n",
    "    \"\"\"\n",
    "    Inverse demand curve for capital.  The interest rate associated with a\n",
    "    given demand for capital K.\n",
    "    \"\"\"\n",
    "    return (A * calpha * (L / K)**(1 - calpha) - cdelta)"
   ]
  },
  {
   "cell_type": "code",
   "execution_count": 17,
   "metadata": {},
   "outputs": [
    {
     "name": "stdout",
     "output_type": "stream",
     "text": [
      "TOC: Elapsed: 0:00:52.52\n",
      "##############################\n",
      "Interest Rate Guess: 0.03\n",
      "Interest Rate Firm: 0.35460640050391135\n",
      "Error: 0.10536931524810568\n",
      "##############################\n",
      "TOC: Elapsed: 0:00:54.39\n",
      "##############################\n",
      "Interest Rate Guess: 0.22476384030234678\n",
      "Interest Rate Firm: -0.029271034330179285\n",
      "Error: 0.06453371752956323\n",
      "##############################\n",
      "TOC: Elapsed: 0:00:41.76\n",
      "##############################\n",
      "Interest Rate Guess: 0.07234291552283115\n",
      "Interest Rate Firm: -0.013284965508281614\n",
      "Error: 0.007332134009878402\n",
      "##############################\n",
      "TOC: Elapsed: 0:00:42.51\n",
      "##############################\n",
      "Interest Rate Guess: 0.020966186904163485\n",
      "Interest Rate Firm: 1.0614344266972207\n",
      "Error: 1.0825741580180626\n",
      "##############################\n",
      "TOC: Elapsed: 0:00:48.48\n",
      "##############################\n",
      "Interest Rate Guess: 0.6452471307799977\n",
      "Interest Rate Firm: -0.040425423509984404\n",
      "Error: 0.4701468517065486\n",
      "##############################\n",
      "TOC: Elapsed: 0:00:44.28\n",
      "##############################\n",
      "Interest Rate Guess: 0.23384359820600842\n",
      "Interest Rate Firm: -0.0299067489482454\n",
      "Error: 0.06956424562398941\n",
      "##############################\n"
     ]
    },
    {
     "ename": "KeyboardInterrupt",
     "evalue": "",
     "output_type": "error",
     "traceback": [
      "\u001b[1;31m---------------------------------------------------------------------------\u001b[0m",
      "\u001b[1;31mKeyboardInterrupt\u001b[0m                         Traceback (most recent call last)",
      "\u001b[1;32m<ipython-input-17-091ccc92e7ad>\u001b[0m in \u001b[0;36m<module>\u001b[1;34m()\u001b[0m\n\u001b[0;32m     23\u001b[0m     \u001b[0mv_init\u001b[0m \u001b[1;33m=\u001b[0m \u001b[0mnp\u001b[0m\u001b[1;33m.\u001b[0m\u001b[0mones\u001b[0m\u001b[1;33m(\u001b[0m\u001b[1;33m(\u001b[0m\u001b[1;33m(\u001b[0m\u001b[0mmod\u001b[0m\u001b[1;33m.\u001b[0m\u001b[0ma_size\u001b[0m \u001b[1;33m*\u001b[0m \u001b[0mmod\u001b[0m\u001b[1;33m.\u001b[0m\u001b[0ma_size\u001b[0m\u001b[1;33m)\u001b[0m\u001b[1;33m,\u001b[0m \u001b[0mmod\u001b[0m\u001b[1;33m.\u001b[0m\u001b[0mz_size\u001b[0m\u001b[1;33m)\u001b[0m\u001b[1;33m)\u001b[0m\u001b[1;33m\u001b[0m\u001b[0m\n\u001b[0;32m     24\u001b[0m     \u001b[0mpol_init\u001b[0m \u001b[1;33m=\u001b[0m \u001b[0mnp\u001b[0m\u001b[1;33m.\u001b[0m\u001b[0mempty\u001b[0m\u001b[1;33m(\u001b[0m\u001b[1;33m(\u001b[0m\u001b[0mmod\u001b[0m\u001b[1;33m.\u001b[0m\u001b[0ma_size\u001b[0m\u001b[1;33m,\u001b[0m \u001b[0mmod\u001b[0m\u001b[1;33m.\u001b[0m\u001b[0mz_size\u001b[0m\u001b[1;33m)\u001b[0m\u001b[1;33m,\u001b[0m \u001b[0mdtype\u001b[0m\u001b[1;33m=\u001b[0m\u001b[0mnp\u001b[0m\u001b[1;33m.\u001b[0m\u001b[0mint_\u001b[0m\u001b[1;33m)\u001b[0m\u001b[1;33m\u001b[0m\u001b[0m\n\u001b[1;32m---> 25\u001b[1;33m     \u001b[0mK\u001b[0m\u001b[1;33m,\u001b[0m \u001b[0mL\u001b[0m \u001b[1;33m=\u001b[0m \u001b[0mcompute_stationary\u001b[0m\u001b[1;33m(\u001b[0m\u001b[0mT\u001b[0m\u001b[1;33m,\u001b[0m \u001b[0mv_init\u001b[0m\u001b[1;33m,\u001b[0m \u001b[0mpol_init\u001b[0m\u001b[1;33m,\u001b[0m \u001b[0mmod\u001b[0m\u001b[1;33m.\u001b[0m\u001b[0mP\u001b[0m\u001b[1;33m,\u001b[0m \u001b[0mmod\u001b[0m\u001b[1;33m.\u001b[0m\u001b[0ma_grid\u001b[0m\u001b[1;33m,\u001b[0m \u001b[0mmod\u001b[0m\u001b[1;33m.\u001b[0m\u001b[0ml_grid\u001b[0m\u001b[1;33m,\u001b[0m \u001b[0mmod\u001b[0m\u001b[1;33m.\u001b[0m\u001b[0mz_vals\u001b[0m\u001b[1;33m)\u001b[0m\u001b[1;33m\u001b[0m\u001b[0m\n\u001b[0m\u001b[0;32m     26\u001b[0m     \u001b[0mtoc\u001b[0m\u001b[1;33m(\u001b[0m\u001b[1;33m)\u001b[0m\u001b[1;33m\u001b[0m\u001b[0m\n\u001b[0;32m     27\u001b[0m \u001b[1;33m\u001b[0m\u001b[0m\n",
      "\u001b[1;31mKeyboardInterrupt\u001b[0m: "
     ]
    }
   ],
   "source": [
    "# equilibrium calculation\n",
    "\n",
    "'''\n",
    "We guess a level of interest rates\n",
    "Then we calculate the capital stock and wages\n",
    "Then we solve the agent's problem and solve for the supply side of effective lab and capital\n",
    "Update r_0 based on it's deviation from r_1 with a simple update rule\n",
    "'''\n",
    "\n",
    "tol = 1e-5\n",
    "error = tol + 1\n",
    "r_0 = 0.03\n",
    "\n",
    "while error > tol:\n",
    "    # get firm's optimal w_0 for the given r_0\n",
    "    w_0 = r_to_w(r_0)\n",
    "\n",
    "    # now we can solve household problem since we have r_0 and w_0\n",
    "    # we get the cpaital and effective labour supplies\n",
    "    tic()\n",
    "    mod = AiyagariProb(r = r_0, w = w_0)\n",
    "    T = mod.bellman_operator()\n",
    "    v_init = np.ones(((mod.a_size * mod.a_size), mod.z_size))\n",
    "    pol_init = np.empty((mod.a_size, mod.z_size), dtype=np.int_)\n",
    "    K, L = compute_stationary(T, v_init, pol_init, mod.P, mod.a_grid, mod.l_grid, mod.z_vals)\n",
    "    toc()\n",
    "\n",
    "    # get the corresponding r which the firm will pay for the supplied K and L\n",
    "    r_1 = rd(K, L)\n",
    "\n",
    "    # error between interest rates\n",
    "    error = (r_0 - r_1) ** 2\n",
    "    \n",
    "    print('##############################')\n",
    "    print(f'Interest Rate Guess: {r_0}')\n",
    "    print(f'Interest Rate Firm: {r_1}')\n",
    "    print(f'Error: {error}')\n",
    "    print('##############################')\n",
    "    \n",
    "    # update rule for r_0\n",
    "    r_0 = r_0  - 0.3 * 2.0 * (r_0 - r_1)\n",
    "\n",
    "print(f'Equilibrium Interest Rate: {r_0} ; Error: {error}')"
   ]
  },
  {
   "cell_type": "code",
   "execution_count": 18,
   "metadata": {},
   "outputs": [
    {
     "name": "stdout",
     "output_type": "stream",
     "text": [
      "TOC: Elapsed: 0:00:12.01\n"
     ]
    },
    {
     "data": {
      "text/plain": [
       "12.016475200653076"
      ]
     },
     "execution_count": 18,
     "metadata": {},
     "output_type": "execute_result"
    }
   ],
   "source": [
    "tic()\n",
    "asset_vals, elab_vals = simulate_stationary(pola, poll, mod.P, mod.a_grid, mod.l_grid, mod.z_vals)\n",
    "toc()"
   ]
  },
  {
   "cell_type": "code",
   "execution_count": 69,
   "metadata": {},
   "outputs": [],
   "source": [
    "asset_vals = np.sort(asset_vals)\n",
    "tot_assets = np.sum(asset_vals)\n",
    "bottom_assets = np.sum(asset_vals[0:40000])"
   ]
  },
  {
   "cell_type": "code",
   "execution_count": 70,
   "metadata": {},
   "outputs": [
    {
     "data": {
      "text/plain": [
       "2.528241606377707e-10"
      ]
     },
     "execution_count": 70,
     "metadata": {},
     "output_type": "execute_result"
    }
   ],
   "source": [
    "bottom_assets/tot_assets"
   ]
  },
  {
   "cell_type": "code",
   "execution_count": 50,
   "metadata": {},
   "outputs": [
    {
     "data": {
      "text/plain": [
       "4.000000000000001e-06"
      ]
     },
     "execution_count": 50,
     "metadata": {},
     "output_type": "execute_result"
    }
   ],
   "source": [
    "np.sum(asset_vals[0:40000])"
   ]
  },
  {
   "cell_type": "code",
   "execution_count": 51,
   "metadata": {},
   "outputs": [
    {
     "data": {
      "text/plain": [
       "1997.8181918070832"
      ]
     },
     "execution_count": 51,
     "metadata": {},
     "output_type": "execute_result"
    }
   ],
   "source": [
    "np.sum(asset_vals)"
   ]
  },
  {
   "cell_type": "code",
   "execution_count": null,
   "metadata": {},
   "outputs": [],
   "source": []
  }
 ],
 "metadata": {
  "kernelspec": {
   "display_name": "Python 3",
   "language": "python",
   "name": "python3"
  },
  "language_info": {
   "codemirror_mode": {
    "name": "ipython",
    "version": 3
   },
   "file_extension": ".py",
   "mimetype": "text/x-python",
   "name": "python",
   "nbconvert_exporter": "python",
   "pygments_lexer": "ipython3",
   "version": "3.6.6"
  }
 },
 "nbformat": 4,
 "nbformat_minor": 2
}
