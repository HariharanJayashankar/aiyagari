{
 "cells": [
  {
   "cell_type": "code",
   "execution_count": 1,
   "metadata": {},
   "outputs": [],
   "source": [
    "import numpy as np\n",
    "import quantecon as qe\n",
    "import matplotlib.pyplot as plt\n",
    "from numba import jit, njit, prange\n",
    "from quantecon.util import tic, toc"
   ]
  },
  {
   "cell_type": "code",
   "execution_count": 2,
   "metadata": {},
   "outputs": [],
   "source": [
    "@njit\n",
    "def u(c, l, cpsi, ceta):\n",
    "    return np.log(c) - cpsi * (l)**(1 + ceta)/(1 + ceta)"
   ]
  },
  {
   "cell_type": "code",
   "execution_count": 7,
   "metadata": {},
   "outputs": [],
   "source": [
    "class AiyagariProb:\n",
    "    \n",
    "    def __init__(self,\n",
    "                 r=0.01,                      # interest rate\n",
    "                 w=1.0,                       # wages\n",
    "                 cpsi = 1,\n",
    "                 ceta = 1.25,\n",
    "                 cbeta=0.96,                  # discount factor\n",
    "                 a_min=1e-10,\n",
    "                 P=[[0.9, 0.1], [0.1, 0.9]],  # Markov chain\n",
    "                 z_vals=[0.1, 1.0],           # exogenous states\n",
    "                 a_max=18,\n",
    "                 a_size=200\n",
    "                 ):\n",
    "        \n",
    "        #making all options class objects\n",
    "        self.r, self.w, self.cpsi, self.ceta, self.cbeta = r, w, cpsi, ceta, cbeta \n",
    "        self.a_min, self.a_max, self.a_size = a_min, a_max, a_size\n",
    "        self.P, self.z_vals = np.asarray(P), np.asarray(z_vals)\n",
    "        self.z_size = len(z_vals)\n",
    "        self.l_size = a_size\n",
    "        \n",
    "        self.a_grid = np.linspace(a_min, a_max, a_size)\n",
    "        self.l_grid = np.linspace(1e-6, 1, a_size)\n",
    "    \n",
    "    def pack_params(self):\n",
    "        return self.r, self.w, self.cpsi, self.ceta, self.cbeta, self.a_min, self.a_max, self.a_size, self.P, self.z_vals, self.a_grid, self.l_grid\n",
    "        \n",
    "    def bellman_operator(self):\n",
    "        \n",
    "        r, w, cpsi, ceta, cbeta, a_min, a_max, a_size, P, z_vals, a_grid, l_grid = self.pack_params()\n",
    "        \n",
    "        @njit\n",
    "        def T(v, v_out, pola, poll):\n",
    "            for j, z in enumerate(z_vals):\n",
    "                for i, x in enumerate(a_grid):\n",
    "                    for l_i, l in enumerate(l_grid):\n",
    "                        y = (1.0 + r) * x + w * z * l\n",
    "                        max_so_far = - np.inf\n",
    "                        # Find largest x_grid index s.t. x' <= y\n",
    "                        idx = np.searchsorted(a_grid, y)\n",
    "                        # Step through x' with 0 <= x' <= y, find max\n",
    "                        for k in range(idx):\n",
    "                            x_next = a_grid[k]\n",
    "                            val = u(y - x_next, l, cpsi, ceta) + cbeta * np.sum(v[k + l_i, :] * P[j, :])\n",
    "                            if val > max_so_far:\n",
    "                                max_so_far = val\n",
    "                                a_star = k\n",
    "                                l_star = l_i\n",
    "\n",
    "                        pola[i, j] = a_star\n",
    "                        poll[l_i, j] = l_star\n",
    "                        v_out[i + l_i, j] = max_so_far\n",
    "\n",
    "        return T"
   ]
  },
  {
   "cell_type": "code",
   "execution_count": 8,
   "metadata": {},
   "outputs": [],
   "source": [
    "@njit\n",
    "def vfi(T, v_init, pol_init, tol=1e-4, max_iter=1000):\n",
    "\n",
    "    # Set initial condition, set up storage\n",
    "    v_in = v_init\n",
    "    v_out = np.empty_like(v_in)\n",
    "    pola = pol_init\n",
    "    poll = np.empty_like(pola, dtype=np.int_)\n",
    "    # Set up loop\n",
    "    i = 0\n",
    "    error = tol + 1\n",
    "\n",
    "    while i < max_iter and error > tol:\n",
    "        T(v_in, v_out, pola, poll)\n",
    "        error = np.max(np.abs(v_in - v_out))\n",
    "        i += 1\n",
    "        v_in[:] = v_out\n",
    "    return v_out, pola, poll"
   ]
  },
  {
   "cell_type": "code",
   "execution_count": 37,
   "metadata": {},
   "outputs": [],
   "source": [
    "mod = AiyagariProb()\n",
    "T = mod.bellman_operator()\n",
    "v_init = np.ones((2 * (mod.a_size), mod.z_size))\n",
    "pol_init = np.empty((mod.a_size, mod.z_size), dtype=np.int_)"
   ]
  },
  {
   "cell_type": "code",
   "execution_count": 38,
   "metadata": {},
   "outputs": [
    {
     "name": "stdout",
     "output_type": "stream",
     "text": [
      "TOC: Elapsed: 0:04:37.99\n"
     ]
    },
    {
     "data": {
      "text/plain": [
       "277.99577474594116"
      ]
     },
     "execution_count": 38,
     "metadata": {},
     "output_type": "execute_result"
    }
   ],
   "source": [
    "tic()\n",
    "v_star, pola, poll = vfi(T, v_init, pol_init)\n",
    "toc()"
   ]
  },
  {
   "cell_type": "code",
   "execution_count": 39,
   "metadata": {},
   "outputs": [],
   "source": [
    "@njit(parallel=True)\n",
    "def simulate_stationary(pol, \n",
    "                        P, \n",
    "                        a_grid, \n",
    "                        i_init=10, \n",
    "                        j_init=0, \n",
    "                        num_households=100_000,\n",
    "                        ts_length=1000):\n",
    "    \n",
    "    asset_vals = np.empty(num_households)\n",
    "    for m in prange(num_households):\n",
    "        i = i_init\n",
    "        j = j_init\n",
    "\n",
    "        for t in range(ts_length-1):\n",
    "            i = pol[i, j]\n",
    "            j = qe.random.draw(np.cumsum(P[j, :]))\n",
    "            \n",
    "        asset_vals[m] = a_grid[i]\n",
    "        \n",
    "    return asset_vals"
   ]
  },
  {
   "cell_type": "code",
   "execution_count": 40,
   "metadata": {},
   "outputs": [
    {
     "name": "stdout",
     "output_type": "stream",
     "text": [
      "TOC: Elapsed: 0:00:12.35\n"
     ]
    },
    {
     "data": {
      "image/png": "[encoded data removed]",
      "text/plain": [
       "<Figure size 432x288 with 1 Axes>"
      ]
     },
     "metadata": {
      "needs_background": "light"
     },
     "output_type": "display_data"
    }
   ],
   "source": [
    "tic()\n",
    "asset_vals = simulate_stationary(pola,mod.P, mod.a_grid)\n",
    "toc()\n",
    "fig, ax = plt.subplots()\n",
    "ax.hist(asset_vals, bins = 30, density=True)\n",
    "plt.show()"
   ]
  },
  {
   "cell_type": "code",
   "execution_count": 44,
   "metadata": {},
   "outputs": [
    {
     "name": "stdout",
     "output_type": "stream",
     "text": [
      "TOC: Elapsed: 0:00:11.69\n"
     ]
    },
    {
     "data": {
      "image/png": "[encoded data removed]",
      "text/plain": [
       "<Figure size 432x288 with 1 Axes>"
      ]
     },
     "metadata": {
      "needs_background": "light"
     },
     "output_type": "display_data"
    }
   ],
   "source": [
    "tic()\n",
    "lab_vals = simulate_stationary(poll,mod.P, mod.a_grid)\n",
    "toc()\n",
    "fig, ax = plt.subplots()\n",
    "ax.hist(lab_vals, bins = 30, density=True)\n",
    "plt.show()"
   ]
  },
  {
   "cell_type": "code",
   "execution_count": null,
   "metadata": {},
   "outputs": [],
   "source": [
    "A = 1.0\n",
    "N = 1.0\n",
    "calpha = 0.33\n",
    "cbeta = 0.96\n",
    "cdelta = 0.05\n",
    "cpsi = 1\n",
    "ceta = 1.25\n",
    "\n",
    "\n",
    "def r_to_w(r):\n",
    "    \"\"\"\n",
    "    Equilibrium wages associated with a given interest rate r.\n",
    "    \"\"\"\n",
    "    \n",
    "    return (A * (1 - calpha) * (A * calpha / (r + cdelta))**(calpha / (1 - calpha)))\n",
    "\n",
    "def rd(K):\n",
    "    \"\"\"\n",
    "    Inverse demand curve for capital.  The interest rate associated with a\n",
    "    given demand for capital K.\n",
    "    \"\"\"\n",
    "    return (A * calpha * (L / K)**(1 - calpha) - cdelta)\n",
    "\n",
    "def prices_to_capital_stock():\n",
    "    \"\"\"\n",
    "    Map prices to the induced level of capital stock.\n",
    "    \n",
    "    Parameters:\n",
    "    ----------\n",
    "    \n",
    "    am : Household\n",
    "        An instance of an aiyagari_household.Household \n",
    "    r : float\n",
    "        The interest rate\n",
    "    \"\"\"\n",
    "    asset_vals = simulate_stationary(pola,mod.P, mod.a_grid)\n",
    "    return np.mean(asset_vals)\n",
    "\n",
    "def prices_to_labour_supply():\n",
    "    \"\"\"\n",
    "    Map prices to the induced level of capital stock.\n",
    "    \n",
    "    Parameters:\n",
    "    ----------\n",
    "    \n",
    "    am : Household\n",
    "        An instance of an aiyagari_household.Household \n",
    "    r : float\n",
    "        The interest rate\n",
    "    \"\"\"\n",
    "    lab = simulate_stationary(poll,mod.P, mod.l_grid)\n",
    "    return np.sum(lab * )"
   ]
  }
 ],
 "metadata": {
  "kernelspec": {
   "display_name": "Python 3",
   "language": "python",
   "name": "python3"
  },
  "language_info": {
   "codemirror_mode": {
    "name": "ipython",
    "version": 3
   },
   "file_extension": ".py",
   "mimetype": "text/x-python",
   "name": "python",
   "nbconvert_exporter": "python",
   "pygments_lexer": "ipython3",
   "version": "3.6.6"
  }
 },
 "nbformat": 4,
 "nbformat_minor": 2
}
