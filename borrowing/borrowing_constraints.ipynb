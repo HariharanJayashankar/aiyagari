{
 "cells": [
  {
   "cell_type": "code",
   "execution_count": 1,
   "metadata": {},
   "outputs": [],
   "source": [
    "import numpy as np\n",
    "import quantecon as qe\n",
    "import matplotlib.pyplot as plt\n",
    "from numba import jit, njit, prange\n",
    "from quantecon.util import tic, toc"
   ]
  },
  {
   "cell_type": "code",
   "execution_count": 17,
   "metadata": {},
   "outputs": [],
   "source": [
    "@njit\n",
    "def u(c, ceta = 2):\n",
    "    return (c**(1 - ceta))/(1 -ceta)"
   ]
  },
  {
   "cell_type": "code",
   "execution_count": 18,
   "metadata": {},
   "outputs": [],
   "source": [
    "class HH:\n",
    "    \n",
    "    def __init__(self,\n",
    "                 r=0.01,                      # interest rate\n",
    "                 w=1.0,                       # wages\n",
    "                 cbeta=0.96,                  # discount factor\n",
    "                 a_min=-5.0,\n",
    "                 P=[[0.9, 0.1], [0.1, 0.9]],  # Markov chain\n",
    "                 z_vals=[0.1, 1.0],           # exogenous states\n",
    "                 a_max=18.0,\n",
    "                 a_size=200,\n",
    "                 ctheta = 0.03\n",
    "                 ):\n",
    "        \n",
    "        #making all options class objects\n",
    "        self.r, self.w, self.cbeta, self.ctheta = r, w, cbeta, ctheta\n",
    "        self.a_min, self.a_max, self.a_size = a_min, a_max, a_size\n",
    "        self.P, self.z_vals = np.asarray(P), np.asarray(z_vals)\n",
    "        self.z_size = len(z_vals)\n",
    "        \n",
    "        self.a_grid = np.linspace(a_min, a_max, a_size)\n",
    "    \n",
    "    def pack_params(self):\n",
    "        return self.r, self.w, self.cbeta, self.ctheta, self.a_min, self.a_max, self.a_size, self.P, self.z_vals, self.a_grid\n",
    "        \n",
    "    def bellman_operator(self):\n",
    "        \n",
    "        r, w, cbeta, ctheta, a_min, a_max, a_size, P, z_vals, a_grid = self.pack_params()\n",
    "                                 \n",
    "        @njit\n",
    "        def T(v, v_out, pol):\n",
    "            n, m = v.shape\n",
    "\n",
    "            for j in prange(m):\n",
    "                z = z_vals[j]\n",
    "\n",
    "                for i in range(n):\n",
    "                    x = a_grid[i]\n",
    "                    # Cash in hand at start of period\n",
    "                    if x < 0:\n",
    "                        y = (1.0 + r + ctheta) * x + w * z\n",
    "                    if x <= 0:\n",
    "                        y = (1.0 + r) * x + w * z\n",
    "                    max_so_far = - np.inf\n",
    "                    # Find largest x_grid index s.t. x' <= y\n",
    "                    idx = np.searchsorted(a_grid, y)\n",
    "                    # Step through x' with 0 <= x' <= y, find max\n",
    "                    for k in range(idx):\n",
    "                        x_next = a_grid[k]\n",
    "                        val = u(y - x_next) + cbeta * np.sum(v[k, :] * P[j, :])\n",
    "                        if val > max_so_far:\n",
    "                            max_so_far = val\n",
    "                            a_star = k\n",
    "\n",
    "                    pol[i, j] = a_star\n",
    "                    v_out[i, j] = max_so_far\n",
    "                    \n",
    "\n",
    "        return T"
   ]
  },
  {
   "cell_type": "code",
   "execution_count": 19,
   "metadata": {},
   "outputs": [],
   "source": [
    "@njit\n",
    "def vfi(T, v_init, tol=1e-4, max_iter=1000):\n",
    "\n",
    "    # Set initial condition, set up storage\n",
    "    v_in = v_init\n",
    "    v_out = np.empty_like(v_in)\n",
    "    pol = np.empty_like(v_in, dtype=np.int_)\n",
    "    # Set up loop\n",
    "    i = 0\n",
    "    error = tol + 1\n",
    "\n",
    "    while i < max_iter and error > tol:\n",
    "        T(v_in, v_out, pol)\n",
    "        error = np.max(np.abs(v_in - v_out))\n",
    "        i += 1\n",
    "        v_in[:] = v_out\n",
    "    return v_out, pol"
   ]
  },
  {
   "cell_type": "code",
   "execution_count": 20,
   "metadata": {},
   "outputs": [],
   "source": [
    "mod = HH(ctheta = 0)\n",
    "T = mod.bellman_operator()\n",
    "v_init = np.ones((mod.a_size, mod.z_size))"
   ]
  },
  {
   "cell_type": "code",
   "execution_count": 21,
   "metadata": {},
   "outputs": [
    {
     "name": "stdout",
     "output_type": "stream",
     "text": [
      "TOC: Elapsed: 0:00:1.18\n"
     ]
    },
    {
     "data": {
      "text/plain": [
       "1.1853415966033936"
      ]
     },
     "execution_count": 21,
     "metadata": {},
     "output_type": "execute_result"
    }
   ],
   "source": [
    "tic()\n",
    "v_star, pol = vfi(T, v_init)\n",
    "toc()"
   ]
  },
  {
   "cell_type": "code",
   "execution_count": 22,
   "metadata": {},
   "outputs": [],
   "source": [
    "@njit(parallel=True)\n",
    "def simulate_stationary_assets(pol, \n",
    "                               P, \n",
    "                               a_grid, \n",
    "                               i_init=10, \n",
    "                               j_init=0, \n",
    "                               num_households=100_000,\n",
    "                               ts_length=1000):\n",
    "    asset_vals = np.empty(num_households)\n",
    "    for m in prange(num_households):\n",
    "        i = i_init\n",
    "        j = j_init\n",
    "\n",
    "        for t in range(ts_length-1):\n",
    "            i = pol[i, j]\n",
    "            j = qe.random.draw(np.cumsum(P[j, :]))\n",
    "            \n",
    "        asset_vals[m] = a_grid[i]\n",
    "        \n",
    "    return asset_vals"
   ]
  },
  {
   "cell_type": "code",
   "execution_count": 23,
   "metadata": {},
   "outputs": [
    {
     "name": "stdout",
     "output_type": "stream",
     "text": [
      "TOC: Elapsed: 0:00:12.20\n"
     ]
    },
    {
     "data": {
      "image/png": "[encoded data removed]",
      "text/plain": [
       "<Figure size 432x288 with 1 Axes>"
      ]
     },
     "metadata": {
      "needs_background": "light"
     },
     "output_type": "display_data"
    }
   ],
   "source": [
    "tic()\n",
    "asset_vals = simulate_stationary_assets(pol,mod.P, mod.a_grid)\n",
    "toc()"
   ]
  },
  {
   "cell_type": "code",
   "execution_count": 27,
   "metadata": {},
   "outputs": [
    {
     "data": {
      "image/png": "[encoded data removed]",
      "text/plain": [
       "<Figure size 432x288 with 1 Axes>"
      ]
     },
     "metadata": {
      "needs_background": "light"
     },
     "output_type": "display_data"
    }
   ],
   "source": [
    "fig, ax = plt.subplots()\n",
    "ax.hist(asset_vals, bins = 100, density=True)\n",
    "plt.show()"
   ]
  }
 ],
 "metadata": {
  "kernelspec": {
   "display_name": "Python 3",
   "language": "python",
   "name": "python3"
  },
  "language_info": {
   "codemirror_mode": {
    "name": "ipython",
    "version": 3
   },
   "file_extension": ".py",
   "mimetype": "text/x-python",
   "name": "python",
   "nbconvert_exporter": "python",
   "pygments_lexer": "ipython3",
   "version": "3.6.6"
  }
 },
 "nbformat": 4,
 "nbformat_minor": 2
}
